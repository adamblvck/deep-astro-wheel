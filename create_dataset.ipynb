{
 "cells": [
  {
   "cell_type": "markdown",
   "metadata": {
    "toc": true
   },
   "source": [
    "<h1>Contents<span class=\"tocSkip\"></span></h1>\n",
    "<div class=\"toc\"><ul class=\"toc-item\"><li><span><a href=\"#Simple-Way\" data-toc-modified-id=\"Simple-Way-1\"><span class=\"toc-item-num\">1&nbsp;&nbsp;</span>Simple Way</a></span></li><li><span><a href=\"#Adding-Time-Split-Into-Cyclical-Variables\" data-toc-modified-id=\"Adding-Time-Split-Into-Cyclical-Variables-2\"><span class=\"toc-item-num\">2&nbsp;&nbsp;</span>Adding Time-Split Into Cyclical Variables</a></span></li><li><span><a href=\"#Converting-Planet-Angles-to-One-Hot-Encodings\" data-toc-modified-id=\"Converting-Planet-Angles-to-One-Hot-Encodings-3\"><span class=\"toc-item-num\">3&nbsp;&nbsp;</span>Converting Planet Angles to One-Hot Encodings</a></span><ul class=\"toc-item\"><li><span><a href=\"#Let's-proceed-with-encoding-all-planets\" data-toc-modified-id=\"Let's-proceed-with-encoding-all-planets-3.1\"><span class=\"toc-item-num\">3.1&nbsp;&nbsp;</span>Let's proceed with encoding all planets</a></span></li></ul></li><li><span><a href=\"#Next-steps\" data-toc-modified-id=\"Next-steps-4\"><span class=\"toc-item-num\">4&nbsp;&nbsp;</span>Next steps</a></span></li><li><span><a href=\"#Old-School-Way\" data-toc-modified-id=\"Old-School-Way-5\"><span class=\"toc-item-num\">5&nbsp;&nbsp;</span>Old School Way</a></span><ul class=\"toc-item\"><li><span><a href=\"#Generate-a-whole-set-of-dates,-spaced-every-2H\" data-toc-modified-id=\"Generate-a-whole-set-of-dates,-spaced-every-2H-5.1\"><span class=\"toc-item-num\">5.1&nbsp;&nbsp;</span>Generate a whole set of dates, spaced every 2H</a></span></li></ul></li></ul></div>"
   ]
  },
  {
   "cell_type": "code",
   "execution_count": 12,
   "metadata": {},
   "outputs": [],
   "source": [
    "from skyfield.api import load\n",
    "import numpy as np\n",
    "import math\n",
    "import matplotlib.pyplot as plt\n",
    "import pandas as pd\n",
    "import seaborn as sns\n",
    "from skyfield.api import utc\n",
    "from scipy.optimize import brentq # machine learning\n",
    "\n",
    "from datetime import timedelta, datetime\n",
    "import pytz"
   ]
  },
  {
   "cell_type": "code",
   "execution_count": 13,
   "metadata": {},
   "outputs": [],
   "source": [
    "# how precise decimals are shown in table\n",
    "pd.set_option('display.float_format', '{:.10f}'.format)"
   ]
  },
  {
   "cell_type": "code",
   "execution_count": 14,
   "metadata": {},
   "outputs": [],
   "source": [
    "# load Ephemeris\n",
    "# load library planet position file\n",
    "planets = load('de431t.bsp')\n",
    "\n",
    "_planets = {\n",
    "    \"sun\": planets['SUN'],\n",
    "    \"earth\": planets['EARTH'],\n",
    "    \"moon\": planets['MOON'],\n",
    "    \"mercury\": planets['MERCURY'],\n",
    "    \"venus\": planets['VENUS BARYCENTER'],\n",
    "    \"mars\": planets['MARS BARYCENTER'],\n",
    "    \"jupiter\": planets['JUPITER BARYCENTER'],\n",
    "    \"saturn\": planets['SATURN BARYCENTER'],\n",
    "    \"uranus\": planets['URANUS BARYCENTER'],\n",
    "    \"neptune\": planets['NEPTUNE BARYCENTER'],\n",
    "    \"pluto\": planets['PLUTO BARYCENTER'],\n",
    "}"
   ]
  },
  {
   "cell_type": "code",
   "execution_count": 15,
   "metadata": {},
   "outputs": [],
   "source": [
    "ts = load.timescale(builtin=True)"
   ]
  },
  {
   "cell_type": "markdown",
   "metadata": {},
   "source": [
    "## Simple Way"
   ]
  },
  {
   "cell_type": "code",
   "execution_count": 16,
   "metadata": {},
   "outputs": [],
   "source": [
    "# For iInfo Purposes\n",
    "# lat = _planets['earth'].at(t_time_array).observe(_planets['venus']).ecliptic_latlon()[0].radians - *math.pi\n",
    "# lon = _planets['earth'].at(t_time_array).observe(_planets['venus']).ecliptic_latlon()[1].radians - math.pi\n",
    "# d   = _planets['earth'].at(t_time_array).observe(_planets['venus']).ecliptic_latlon()[2]"
   ]
  },
  {
   "cell_type": "code",
   "execution_count": 17,
   "metadata": {},
   "outputs": [],
   "source": [
    "def generate_planets(time_range):\n",
    "    \"\"\" Generates a dataframe for the registered collection of dates \"\"\"\n",
    "    df = pd.DataFrame()\n",
    "    df['time'] = np.array(time_range.tt)\n",
    "\n",
    "    for planet_name, p in _planets.items():\n",
    "        earth_offset = math.pi if planet_name == \"earth\" else 0.0\n",
    "        df[planet_name] = _planets['earth'].at(time_range).observe(p).ecliptic_latlon()[1].radians + earth_offset # latitude\n",
    "        \n",
    "    return df"
   ]
  },
  {
   "cell_type": "code",
   "execution_count": 18,
   "metadata": {},
   "outputs": [],
   "source": [
    "hours_in_100_years = 24 * 365 * 20\n",
    "t_time_array = ts.utc(2008, 1, 1, range(0,hours_in_100_years), 0) # -3000 BC to 3000 BC, increments in hours\n",
    "\n",
    "df_planets = generate_planets(t_time_array) # takes a while"
   ]
  },
  {
   "cell_type": "code",
   "execution_count": 19,
   "metadata": {},
   "outputs": [
    {
     "output_type": "execute_result",
     "data": {
      "text/plain": [
       "                     time          sun        earth         moon      mercury  \\\n",
       "175195 2461766.2924211114 4.7888066486 3.1415926536 4.5802974645 4.9364517234   \n",
       "175196 2461766.3340877779 4.7895478304 3.1415926536 4.5893845683 4.9376197623   \n",
       "175197 2461766.3757544444 4.7902890154 3.1415926536 4.5984654476 4.9387878689   \n",
       "175198 2461766.4174211114 4.7910302034 3.1415926536 4.6075401038 4.9399560427   \n",
       "175199 2461766.4590877779 4.7917713945 3.1415926536 4.6166085745 4.9411242834   \n",
       "\n",
       "              venus         mars      jupiter       saturn       uranus  \\\n",
       "175195 5.3796609003 5.1217326140 3.0836873503 0.3600718556 1.1601854368   \n",
       "175196 5.3805534828 5.1222995353 3.0837249560 0.3600755332 1.1601593944   \n",
       "175197 5.3814460474 5.1228664743 3.0837624702 0.3600792673 1.1601333665   \n",
       "175198 5.3823385941 5.1234334310 3.0837998928 0.3600830580 1.1601073530   \n",
       "175199 5.3832311229 5.1240004053 3.0838372237 0.3600869051 1.1600813540   \n",
       "\n",
       "            neptune        pluto  \n",
       "175195 0.0610001780 5.3307040514  \n",
       "175196 0.0610050201 5.3307243100  \n",
       "175197 0.0610098799 5.3307445758  \n",
       "175198 0.0610147573 5.3307648485  \n",
       "175199 0.0610196523 5.3307851284  "
      ],
      "text/html": "<div>\n<style scoped>\n    .dataframe tbody tr th:only-of-type {\n        vertical-align: middle;\n    }\n\n    .dataframe tbody tr th {\n        vertical-align: top;\n    }\n\n    .dataframe thead th {\n        text-align: right;\n    }\n</style>\n<table border=\"1\" class=\"dataframe\">\n  <thead>\n    <tr style=\"text-align: right;\">\n      <th></th>\n      <th>time</th>\n      <th>sun</th>\n      <th>earth</th>\n      <th>moon</th>\n      <th>mercury</th>\n      <th>venus</th>\n      <th>mars</th>\n      <th>jupiter</th>\n      <th>saturn</th>\n      <th>uranus</th>\n      <th>neptune</th>\n      <th>pluto</th>\n    </tr>\n  </thead>\n  <tbody>\n    <tr>\n      <th>175195</th>\n      <td>2461766.2924211114</td>\n      <td>4.7888066486</td>\n      <td>3.1415926536</td>\n      <td>4.5802974645</td>\n      <td>4.9364517234</td>\n      <td>5.3796609003</td>\n      <td>5.1217326140</td>\n      <td>3.0836873503</td>\n      <td>0.3600718556</td>\n      <td>1.1601854368</td>\n      <td>0.0610001780</td>\n      <td>5.3307040514</td>\n    </tr>\n    <tr>\n      <th>175196</th>\n      <td>2461766.3340877779</td>\n      <td>4.7895478304</td>\n      <td>3.1415926536</td>\n      <td>4.5893845683</td>\n      <td>4.9376197623</td>\n      <td>5.3805534828</td>\n      <td>5.1222995353</td>\n      <td>3.0837249560</td>\n      <td>0.3600755332</td>\n      <td>1.1601593944</td>\n      <td>0.0610050201</td>\n      <td>5.3307243100</td>\n    </tr>\n    <tr>\n      <th>175197</th>\n      <td>2461766.3757544444</td>\n      <td>4.7902890154</td>\n      <td>3.1415926536</td>\n      <td>4.5984654476</td>\n      <td>4.9387878689</td>\n      <td>5.3814460474</td>\n      <td>5.1228664743</td>\n      <td>3.0837624702</td>\n      <td>0.3600792673</td>\n      <td>1.1601333665</td>\n      <td>0.0610098799</td>\n      <td>5.3307445758</td>\n    </tr>\n    <tr>\n      <th>175198</th>\n      <td>2461766.4174211114</td>\n      <td>4.7910302034</td>\n      <td>3.1415926536</td>\n      <td>4.6075401038</td>\n      <td>4.9399560427</td>\n      <td>5.3823385941</td>\n      <td>5.1234334310</td>\n      <td>3.0837998928</td>\n      <td>0.3600830580</td>\n      <td>1.1601073530</td>\n      <td>0.0610147573</td>\n      <td>5.3307648485</td>\n    </tr>\n    <tr>\n      <th>175199</th>\n      <td>2461766.4590877779</td>\n      <td>4.7917713945</td>\n      <td>3.1415926536</td>\n      <td>4.6166085745</td>\n      <td>4.9411242834</td>\n      <td>5.3832311229</td>\n      <td>5.1240004053</td>\n      <td>3.0838372237</td>\n      <td>0.3600869051</td>\n      <td>1.1600813540</td>\n      <td>0.0610196523</td>\n      <td>5.3307851284</td>\n    </tr>\n  </tbody>\n</table>\n</div>"
     },
     "metadata": {},
     "execution_count": 19
    }
   ],
   "source": [
    "df_planets.tail()"
   ]
  },
  {
   "cell_type": "code",
   "execution_count": 21,
   "metadata": {},
   "outputs": [
    {
     "output_type": "execute_result",
     "data": {
      "text/plain": [
       "175200"
      ]
     },
     "metadata": {},
     "execution_count": 21
    }
   ],
   "source": [
    "len(df_planets)"
   ]
  },
  {
   "cell_type": "code",
   "execution_count": null,
   "metadata": {},
   "outputs": [],
   "source": []
  },
  {
   "cell_type": "code",
   "execution_count": null,
   "metadata": {},
   "outputs": [],
   "source": []
  },
  {
   "cell_type": "code",
   "execution_count": null,
   "metadata": {},
   "outputs": [],
   "source": []
  },
  {
   "cell_type": "code",
   "execution_count": null,
   "metadata": {},
   "outputs": [],
   "source": []
  },
  {
   "cell_type": "markdown",
   "metadata": {},
   "source": [
    "## Adding Time-Split Into Cyclical Variables\n",
    "\n",
    "We want to convert the julian-time to a series of values of increment"
   ]
  },
  {
   "cell_type": "code",
   "execution_count": 141,
   "metadata": {},
   "outputs": [
    {
     "data": {
      "text/plain": [
       "2415020.5004882407"
      ]
     },
     "execution_count": 141,
     "metadata": {},
     "output_type": "execute_result"
    }
   ],
   "source": [
    "t = df.time[0]\n",
    "t"
   ]
  },
  {
   "cell_type": "code",
   "execution_count": 742,
   "metadata": {},
   "outputs": [],
   "source": [
    "def test_get_buckets(j_tt, mod_period):\n",
    "    for index, rotor in enumerate(range(-10,9)):\n",
    "        print ( math.floor(j_tt % (mod_period**rotor) / (mod_period**rotor) * mod_period) , '%', (mod_period**rotor))\n",
    "        \n",
    "def value_to_rotor(j_tt, mod_period, n_rotor_range_min=-15, n_rotor_range_max=15):\n",
    "    \"\"\" Returns rotary bins. Mod_periods=2 returns binary. mod_period=10 returns decimal arrangement\n",
    "    \n",
    "        Good default value for n_rotor_range = 10 (this defines how many rotors there are)\n",
    "    \"\"\"\n",
    "    rotor = []\n",
    "    for r in range(n_rotor_range_min, n_rotor_range_max):\n",
    "        rot = math.floor(j_tt % (mod_period**r) / (mod_period**r) * mod_period)\n",
    "        rotor.append(rot)\n",
    "\n",
    "    return rotor\n",
    "\n",
    "def rotor_to_value(rotor, mod_period, n_rotor_range_min=-15, n_rotor_range_max=15):\n",
    "    \"\"\" Converts rotary bins back to a decimal value \"\"\"\n",
    "    \n",
    "    julian_time = 0.0\n",
    "    print (n_rotor_range_min, n_rotor_range_max)\n",
    "    for index, r in enumerate(range(n_rotor_range_min, n_rotor_range_max)):\n",
    "\n",
    "        julian_time += rotor[index] * (mod_period**(r+1)) / (mod_period**2)\n",
    "    \n",
    "    return julian_time\n",
    "\n",
    "def encode_value_to_one_hot_rotor(value, mod_period, n_rotor_range_min=-15, n_rotor_range_max=15):\n",
    "    \"\"\" Converts a value to a 1-hot encoded rotor array \"\"\"\n",
    "    values = value_to_rotor(value, mod_period, n_rotor_range_min, n_rotor_range_max) # get time rotation of j_tt (julian)\n",
    "    n_values = mod_period # = max value of period\n",
    "    return np.eye(n_values)[values].flatten()\n",
    "\n",
    "def decode_one_hot_rotor_to_value(flat_1hot_rotor, mod_period, n_rotor_range_min=-15, n_rotor_range_max=15):\n",
    "    \"\"\" Converts a one hot rotor back to a value \"\"\"\n",
    "    \n",
    "    # convert to the numpy useful one-hot encoding of the different bins (there mod_period amount in every encoding)\n",
    "    onehot = np.reshape(flat_1hot_rotor, (int(len(flat_1hot_rotor)/mod_period),mod_period))\n",
    "    \n",
    "    # get rotor values (1hot -> category array)\n",
    "    rotor = np.argmax(onehot, axis=1)\n",
    "    \n",
    "    # convert to value\n",
    "    value = rotor_to_value(rotor, mod_period, n_rotor_range_min, n_rotor_range_max)\n",
    "    \n",
    "    return value"
   ]
  },
  {
   "cell_type": "code",
   "execution_count": 734,
   "metadata": {},
   "outputs": [
    {
     "name": "stdout",
     "output_type": "stream",
     "text": [
      "2415020.5004882407\n",
      "4 % 1e-10\n",
      "5 % 1e-09\n",
      "0 % 1e-08\n",
      "4 % 1e-07\n",
      "2 % 1e-06\n",
      "8 % 1e-05\n",
      "8 % 0.0001\n",
      "4 % 0.001\n",
      "0 % 0.01\n",
      "0 % 0.1\n",
      "5 % 1\n",
      "0 % 10\n",
      "2 % 100\n",
      "0 % 1000\n",
      "5 % 10000\n",
      "1 % 100000\n",
      "4 % 1000000\n",
      "2 % 10000000\n",
      "0 % 100000000\n"
     ]
    }
   ],
   "source": [
    "# small little test for the bucketing system\n",
    "print (df.time[0])\n",
    "test_get_buckets(df.time[0], 10) # test"
   ]
  },
  {
   "cell_type": "code",
   "execution_count": 735,
   "metadata": {},
   "outputs": [
    {
     "data": {
      "text/plain": [
       "array([[0., 1., 0., 0.],\n",
       "       [1., 0., 0., 0.],\n",
       "       [0., 0., 0., 1.]])"
      ]
     },
     "execution_count": 735,
     "metadata": {},
     "output_type": "execute_result"
    }
   ],
   "source": [
    "# below snippet is how to create categorical variables\n",
    "values = [1, 0, 3]\n",
    "categories = np.eye(4)[values] # 4 categories\n",
    "categories"
   ]
  },
  {
   "cell_type": "code",
   "execution_count": 736,
   "metadata": {},
   "outputs": [
    {
     "data": {
      "text/plain": [
       "array([1, 0, 3])"
      ]
     },
     "execution_count": 736,
     "metadata": {},
     "output_type": "execute_result"
    }
   ],
   "source": [
    "# back to category array\n",
    "np.argmax(categories, axis=1)"
   ]
  },
  {
   "cell_type": "code",
   "execution_count": 737,
   "metadata": {},
   "outputs": [
    {
     "name": "stdout",
     "output_type": "stream",
     "text": [
      "Julian time: 2415020.5004882407\n",
      "to\n",
      "Rotor encoded: [2, 0, 1, 1, 3, 3, 3, 3, 3, 3, 1, 0, 0, 0, 0, 2, 0, 3, 2, 2, 1, 2, 1, 3, 0, 1, 2, 0, 0, 0]\n"
     ]
    }
   ],
   "source": [
    "# further testing\n",
    "r = value_to_rotor(df.time[0], 4, -15, 15)\n",
    "print (\"Julian time:\", df.time[0])\n",
    "print(\"to\")\n",
    "print (\"Rotor encoded:\",r)"
   ]
  },
  {
   "cell_type": "code",
   "execution_count": 744,
   "metadata": {},
   "outputs": [
    {
     "name": "stdout",
     "output_type": "stream",
     "text": [
      "-15 15\n",
      "Rotor encoded: [2, 0, 1, 1, 3, 3, 3, 3, 3, 3, 1, 0, 0, 0, 0, 2, 0, 3, 2, 2, 1, 2, 1, 3, 0, 1, 2, 0, 0, 0]\n",
      "to\n",
      "Julian Time from rotor 2415020.5004882407\n"
     ]
    }
   ],
   "source": [
    "_t = rotor_to_value(r, 4, -15, 15)\n",
    "print(\"Rotor encoded:\",r)\n",
    "print(\"to\")\n",
    "print(\"Julian Time from rotor\", _t)"
   ]
  },
  {
   "cell_type": "code",
   "execution_count": null,
   "metadata": {},
   "outputs": [],
   "source": []
  },
  {
   "cell_type": "code",
   "execution_count": 845,
   "metadata": {},
   "outputs": [],
   "source": [
    "def test_encode_decode(value, mod_rotor, n_rotor_range_min, n_rotor_range_max):\n",
    "\n",
    "    a_time_rotor = encode_value_to_one_hot_rotor(value, mod_rotor, n_rotor_range_min, n_rotor_range_max)\n",
    "    value_decoded = decode_one_hot_rotor_to_value(a_time_rotor, mod_rotor, n_rotor_range_min, n_rotor_range_max)\n",
    "    print (\"Julian time:\", value)\n",
    "    print (\"Flat One Hot Array:\", a_time_rotor, \" with length:\", len(a_time_rotor))\n",
    "    print (\"Decoded Rotor:\", value_decoded)\n",
    "    print (\"Error:\", value_decoded - value)"
   ]
  },
  {
   "cell_type": "code",
   "execution_count": 846,
   "metadata": {},
   "outputs": [
    {
     "name": "stdout",
     "output_type": "stream",
     "text": [
      "-15 15\n",
      "Julian time: 2415062.1671549077\n",
      "Flat One Hot Array: [0. 0. 1. 0. 0. 0. 0. 1. 0. 0. 0. 1. 0. 0. 0. 1. 0. 1. 0. 0. 0. 0. 1. 0.\n",
      " 0. 0. 1. 0. 0. 0. 1. 0. 0. 0. 1. 0. 0. 0. 1. 0. 1. 0. 0. 0. 0. 0. 0. 1.\n",
      " 0. 0. 1. 0. 0. 0. 1. 0. 0. 0. 1. 0. 1. 0. 0. 0. 0. 0. 1. 0. 0. 1. 0. 0.\n",
      " 0. 1. 0. 0. 0. 0. 0. 1. 0. 1. 0. 0. 0. 0. 1. 0. 0. 1. 0. 0. 0. 0. 0. 1.\n",
      " 1. 0. 0. 0. 0. 1. 0. 0. 0. 0. 1. 0. 1. 0. 0. 0. 1. 0. 0. 0. 1. 0. 0. 0.]  with length: 120\n",
      "Decoded Rotor: 2415062.1671549077\n",
      "Error: 0.0\n"
     ]
    }
   ],
   "source": [
    "test_encode_decode(df.time[1000], 4, -15, 15)"
   ]
  },
  {
   "cell_type": "markdown",
   "metadata": {},
   "source": [
    "We'll be adding all these arrays to a dataframe, then transposing it to get the dummy values."
   ]
  },
  {
   "cell_type": "code",
   "execution_count": 762,
   "metadata": {},
   "outputs": [],
   "source": [
    "# this might take a time... It creates a dataframe from a series of values (like a column)\n",
    "def value_array_to_rotor_df(value_array, prefix=\"_\", mod_rotor = 4, n_rotor_range_min=-15, n_rotor_range_max=15):\n",
    "\n",
    "    encode = np.zeros((len(value_array),mod_rotor*(n_rotor_range_max-n_rotor_range_min)))\n",
    "\n",
    "    # do it across our time_range (currently in use)\n",
    "    time_rotors = []\n",
    "    for ii, t in enumerate(value_array):\n",
    "        encode[ii,:] = np.array(encode_value_to_one_hot_rotor(t, mod_rotor, n_rotor_range_min, n_rotor_range_max))\n",
    "\n",
    "    df_rotor = pd.DataFrame(encode)\n",
    "    df_rotor = df_rotor.add_prefix(prefix)\n",
    "\n",
    "    return df_rotor"
   ]
  },
  {
   "cell_type": "code",
   "execution_count": 764,
   "metadata": {},
   "outputs": [],
   "source": [
    "df_time_rotor = value_array_to_rotor_df(t_time_array.tt, \"time_rot_\", 4, -15, 15)"
   ]
  },
  {
   "cell_type": "code",
   "execution_count": 765,
   "metadata": {},
   "outputs": [
    {
     "data": {
      "text/html": [
       "<div>\n",
       "<style scoped>\n",
       "    .dataframe tbody tr th:only-of-type {\n",
       "        vertical-align: middle;\n",
       "    }\n",
       "\n",
       "    .dataframe tbody tr th {\n",
       "        vertical-align: top;\n",
       "    }\n",
       "\n",
       "    .dataframe thead th {\n",
       "        text-align: right;\n",
       "    }\n",
       "</style>\n",
       "<table border=\"1\" class=\"dataframe\">\n",
       "  <thead>\n",
       "    <tr style=\"text-align: right;\">\n",
       "      <th></th>\n",
       "      <th>time_rot_0</th>\n",
       "      <th>time_rot_1</th>\n",
       "      <th>time_rot_2</th>\n",
       "      <th>time_rot_3</th>\n",
       "      <th>time_rot_4</th>\n",
       "      <th>time_rot_5</th>\n",
       "      <th>time_rot_6</th>\n",
       "      <th>time_rot_7</th>\n",
       "      <th>time_rot_8</th>\n",
       "      <th>time_rot_9</th>\n",
       "      <th>...</th>\n",
       "      <th>time_rot_110</th>\n",
       "      <th>time_rot_111</th>\n",
       "      <th>time_rot_112</th>\n",
       "      <th>time_rot_113</th>\n",
       "      <th>time_rot_114</th>\n",
       "      <th>time_rot_115</th>\n",
       "      <th>time_rot_116</th>\n",
       "      <th>time_rot_117</th>\n",
       "      <th>time_rot_118</th>\n",
       "      <th>time_rot_119</th>\n",
       "    </tr>\n",
       "  </thead>\n",
       "  <tbody>\n",
       "    <tr>\n",
       "      <th>0</th>\n",
       "      <td>0.0000000000</td>\n",
       "      <td>0.0000000000</td>\n",
       "      <td>1.0000000000</td>\n",
       "      <td>0.0000000000</td>\n",
       "      <td>1.0000000000</td>\n",
       "      <td>0.0000000000</td>\n",
       "      <td>0.0000000000</td>\n",
       "      <td>0.0000000000</td>\n",
       "      <td>0.0000000000</td>\n",
       "      <td>1.0000000000</td>\n",
       "      <td>...</td>\n",
       "      <td>0.0000000000</td>\n",
       "      <td>0.0000000000</td>\n",
       "      <td>1.0000000000</td>\n",
       "      <td>0.0000000000</td>\n",
       "      <td>0.0000000000</td>\n",
       "      <td>0.0000000000</td>\n",
       "      <td>1.0000000000</td>\n",
       "      <td>0.0000000000</td>\n",
       "      <td>0.0000000000</td>\n",
       "      <td>0.0000000000</td>\n",
       "    </tr>\n",
       "    <tr>\n",
       "      <th>1</th>\n",
       "      <td>0.0000000000</td>\n",
       "      <td>0.0000000000</td>\n",
       "      <td>1.0000000000</td>\n",
       "      <td>0.0000000000</td>\n",
       "      <td>0.0000000000</td>\n",
       "      <td>0.0000000000</td>\n",
       "      <td>0.0000000000</td>\n",
       "      <td>1.0000000000</td>\n",
       "      <td>0.0000000000</td>\n",
       "      <td>0.0000000000</td>\n",
       "      <td>...</td>\n",
       "      <td>0.0000000000</td>\n",
       "      <td>0.0000000000</td>\n",
       "      <td>1.0000000000</td>\n",
       "      <td>0.0000000000</td>\n",
       "      <td>0.0000000000</td>\n",
       "      <td>0.0000000000</td>\n",
       "      <td>1.0000000000</td>\n",
       "      <td>0.0000000000</td>\n",
       "      <td>0.0000000000</td>\n",
       "      <td>0.0000000000</td>\n",
       "    </tr>\n",
       "    <tr>\n",
       "      <th>2</th>\n",
       "      <td>1.0000000000</td>\n",
       "      <td>0.0000000000</td>\n",
       "      <td>0.0000000000</td>\n",
       "      <td>0.0000000000</td>\n",
       "      <td>0.0000000000</td>\n",
       "      <td>0.0000000000</td>\n",
       "      <td>1.0000000000</td>\n",
       "      <td>0.0000000000</td>\n",
       "      <td>0.0000000000</td>\n",
       "      <td>0.0000000000</td>\n",
       "      <td>...</td>\n",
       "      <td>0.0000000000</td>\n",
       "      <td>0.0000000000</td>\n",
       "      <td>1.0000000000</td>\n",
       "      <td>0.0000000000</td>\n",
       "      <td>0.0000000000</td>\n",
       "      <td>0.0000000000</td>\n",
       "      <td>1.0000000000</td>\n",
       "      <td>0.0000000000</td>\n",
       "      <td>0.0000000000</td>\n",
       "      <td>0.0000000000</td>\n",
       "    </tr>\n",
       "    <tr>\n",
       "      <th>3</th>\n",
       "      <td>0.0000000000</td>\n",
       "      <td>0.0000000000</td>\n",
       "      <td>1.0000000000</td>\n",
       "      <td>0.0000000000</td>\n",
       "      <td>1.0000000000</td>\n",
       "      <td>0.0000000000</td>\n",
       "      <td>0.0000000000</td>\n",
       "      <td>0.0000000000</td>\n",
       "      <td>0.0000000000</td>\n",
       "      <td>1.0000000000</td>\n",
       "      <td>...</td>\n",
       "      <td>0.0000000000</td>\n",
       "      <td>0.0000000000</td>\n",
       "      <td>1.0000000000</td>\n",
       "      <td>0.0000000000</td>\n",
       "      <td>0.0000000000</td>\n",
       "      <td>0.0000000000</td>\n",
       "      <td>1.0000000000</td>\n",
       "      <td>0.0000000000</td>\n",
       "      <td>0.0000000000</td>\n",
       "      <td>0.0000000000</td>\n",
       "    </tr>\n",
       "    <tr>\n",
       "      <th>4</th>\n",
       "      <td>0.0000000000</td>\n",
       "      <td>0.0000000000</td>\n",
       "      <td>1.0000000000</td>\n",
       "      <td>0.0000000000</td>\n",
       "      <td>0.0000000000</td>\n",
       "      <td>0.0000000000</td>\n",
       "      <td>0.0000000000</td>\n",
       "      <td>1.0000000000</td>\n",
       "      <td>0.0000000000</td>\n",
       "      <td>0.0000000000</td>\n",
       "      <td>...</td>\n",
       "      <td>0.0000000000</td>\n",
       "      <td>0.0000000000</td>\n",
       "      <td>1.0000000000</td>\n",
       "      <td>0.0000000000</td>\n",
       "      <td>0.0000000000</td>\n",
       "      <td>0.0000000000</td>\n",
       "      <td>1.0000000000</td>\n",
       "      <td>0.0000000000</td>\n",
       "      <td>0.0000000000</td>\n",
       "      <td>0.0000000000</td>\n",
       "    </tr>\n",
       "  </tbody>\n",
       "</table>\n",
       "<p>5 rows × 120 columns</p>\n",
       "</div>"
      ],
      "text/plain": [
       "    time_rot_0   time_rot_1   time_rot_2   time_rot_3   time_rot_4  \\\n",
       "0 0.0000000000 0.0000000000 1.0000000000 0.0000000000 1.0000000000   \n",
       "1 0.0000000000 0.0000000000 1.0000000000 0.0000000000 0.0000000000   \n",
       "2 1.0000000000 0.0000000000 0.0000000000 0.0000000000 0.0000000000   \n",
       "3 0.0000000000 0.0000000000 1.0000000000 0.0000000000 1.0000000000   \n",
       "4 0.0000000000 0.0000000000 1.0000000000 0.0000000000 0.0000000000   \n",
       "\n",
       "    time_rot_5   time_rot_6   time_rot_7   time_rot_8   time_rot_9  ...  \\\n",
       "0 0.0000000000 0.0000000000 0.0000000000 0.0000000000 1.0000000000  ...   \n",
       "1 0.0000000000 0.0000000000 1.0000000000 0.0000000000 0.0000000000  ...   \n",
       "2 0.0000000000 1.0000000000 0.0000000000 0.0000000000 0.0000000000  ...   \n",
       "3 0.0000000000 0.0000000000 0.0000000000 0.0000000000 1.0000000000  ...   \n",
       "4 0.0000000000 0.0000000000 1.0000000000 0.0000000000 0.0000000000  ...   \n",
       "\n",
       "   time_rot_110  time_rot_111  time_rot_112  time_rot_113  time_rot_114  \\\n",
       "0  0.0000000000  0.0000000000  1.0000000000  0.0000000000  0.0000000000   \n",
       "1  0.0000000000  0.0000000000  1.0000000000  0.0000000000  0.0000000000   \n",
       "2  0.0000000000  0.0000000000  1.0000000000  0.0000000000  0.0000000000   \n",
       "3  0.0000000000  0.0000000000  1.0000000000  0.0000000000  0.0000000000   \n",
       "4  0.0000000000  0.0000000000  1.0000000000  0.0000000000  0.0000000000   \n",
       "\n",
       "   time_rot_115  time_rot_116  time_rot_117  time_rot_118  time_rot_119  \n",
       "0  0.0000000000  1.0000000000  0.0000000000  0.0000000000  0.0000000000  \n",
       "1  0.0000000000  1.0000000000  0.0000000000  0.0000000000  0.0000000000  \n",
       "2  0.0000000000  1.0000000000  0.0000000000  0.0000000000  0.0000000000  \n",
       "3  0.0000000000  1.0000000000  0.0000000000  0.0000000000  0.0000000000  \n",
       "4  0.0000000000  1.0000000000  0.0000000000  0.0000000000  0.0000000000  \n",
       "\n",
       "[5 rows x 120 columns]"
      ]
     },
     "execution_count": 765,
     "metadata": {},
     "output_type": "execute_result"
    }
   ],
   "source": [
    "df_time_rotor.head()"
   ]
  },
  {
   "cell_type": "code",
   "execution_count": 766,
   "metadata": {},
   "outputs": [
    {
     "data": {
      "text/plain": [
       "876000"
      ]
     },
     "execution_count": 766,
     "metadata": {},
     "output_type": "execute_result"
    }
   ],
   "source": [
    "len(df_time_rotor)"
   ]
  },
  {
   "cell_type": "code",
   "execution_count": 767,
   "metadata": {},
   "outputs": [
    {
     "data": {
      "text/plain": [
       "(100, 120)"
      ]
     },
     "execution_count": 767,
     "metadata": {},
     "output_type": "execute_result"
    }
   ],
   "source": [
    "encode.shape"
   ]
  },
  {
   "cell_type": "markdown",
   "metadata": {},
   "source": [
    "Now add `time_rot_` to `df_planets`, containing our ephimeris. It essentially displays time as a series of buckets"
   ]
  },
  {
   "cell_type": "code",
   "execution_count": 768,
   "metadata": {},
   "outputs": [
    {
     "data": {
      "text/html": [
       "<div>\n",
       "<style scoped>\n",
       "    .dataframe tbody tr th:only-of-type {\n",
       "        vertical-align: middle;\n",
       "    }\n",
       "\n",
       "    .dataframe tbody tr th {\n",
       "        vertical-align: top;\n",
       "    }\n",
       "\n",
       "    .dataframe thead th {\n",
       "        text-align: right;\n",
       "    }\n",
       "</style>\n",
       "<table border=\"1\" class=\"dataframe\">\n",
       "  <thead>\n",
       "    <tr style=\"text-align: right;\">\n",
       "      <th></th>\n",
       "      <th>time</th>\n",
       "      <th>sun</th>\n",
       "      <th>earth</th>\n",
       "      <th>moon</th>\n",
       "      <th>mercury</th>\n",
       "      <th>venus</th>\n",
       "      <th>mars</th>\n",
       "      <th>jupiter</th>\n",
       "      <th>saturn</th>\n",
       "      <th>uranus</th>\n",
       "      <th>...</th>\n",
       "      <th>time_rot_110</th>\n",
       "      <th>time_rot_111</th>\n",
       "      <th>time_rot_112</th>\n",
       "      <th>time_rot_113</th>\n",
       "      <th>time_rot_114</th>\n",
       "      <th>time_rot_115</th>\n",
       "      <th>time_rot_116</th>\n",
       "      <th>time_rot_117</th>\n",
       "      <th>time_rot_118</th>\n",
       "      <th>time_rot_119</th>\n",
       "    </tr>\n",
       "  </thead>\n",
       "  <tbody>\n",
       "    <tr>\n",
       "      <th>0</th>\n",
       "      <td>2415020.5004882407</td>\n",
       "      <td>4.9139988284</td>\n",
       "      <td>3.1415926536</td>\n",
       "      <td>4.7790792273</td>\n",
       "      <td>4.5447599779</td>\n",
       "      <td>5.3716391230</td>\n",
       "      <td>4.9788254865</td>\n",
       "      <td>4.2329877905</td>\n",
       "      <td>4.6969294963</td>\n",
       "      <td>4.3901325057</td>\n",
       "      <td>...</td>\n",
       "      <td>0.0000000000</td>\n",
       "      <td>0.0000000000</td>\n",
       "      <td>1.0000000000</td>\n",
       "      <td>0.0000000000</td>\n",
       "      <td>0.0000000000</td>\n",
       "      <td>0.0000000000</td>\n",
       "      <td>1.0000000000</td>\n",
       "      <td>0.0000000000</td>\n",
       "      <td>0.0000000000</td>\n",
       "      <td>0.0000000000</td>\n",
       "    </tr>\n",
       "    <tr>\n",
       "      <th>1</th>\n",
       "      <td>2415020.5421549077</td>\n",
       "      <td>4.9147404218</td>\n",
       "      <td>3.1415926536</td>\n",
       "      <td>4.7895000534</td>\n",
       "      <td>4.5456886992</td>\n",
       "      <td>5.3725433572</td>\n",
       "      <td>4.9793857048</td>\n",
       "      <td>4.2331299323</td>\n",
       "      <td>4.6970140338</td>\n",
       "      <td>4.3901726600</td>\n",
       "      <td>...</td>\n",
       "      <td>0.0000000000</td>\n",
       "      <td>0.0000000000</td>\n",
       "      <td>1.0000000000</td>\n",
       "      <td>0.0000000000</td>\n",
       "      <td>0.0000000000</td>\n",
       "      <td>0.0000000000</td>\n",
       "      <td>1.0000000000</td>\n",
       "      <td>0.0000000000</td>\n",
       "      <td>0.0000000000</td>\n",
       "      <td>0.0000000000</td>\n",
       "    </tr>\n",
       "    <tr>\n",
       "      <th>2</th>\n",
       "      <td>2415020.5838215742</td>\n",
       "      <td>4.9154820157</td>\n",
       "      <td>3.1415926536</td>\n",
       "      <td>4.7999305701</td>\n",
       "      <td>4.5466182272</td>\n",
       "      <td>5.3734475816</td>\n",
       "      <td>4.9799459428</td>\n",
       "      <td>4.2332720395</td>\n",
       "      <td>4.6970985632</td>\n",
       "      <td>4.3902128023</td>\n",
       "      <td>...</td>\n",
       "      <td>0.0000000000</td>\n",
       "      <td>0.0000000000</td>\n",
       "      <td>1.0000000000</td>\n",
       "      <td>0.0000000000</td>\n",
       "      <td>0.0000000000</td>\n",
       "      <td>0.0000000000</td>\n",
       "      <td>1.0000000000</td>\n",
       "      <td>0.0000000000</td>\n",
       "      <td>0.0000000000</td>\n",
       "      <td>0.0000000000</td>\n",
       "    </tr>\n",
       "    <tr>\n",
       "      <th>3</th>\n",
       "      <td>2415020.6254882407</td>\n",
       "      <td>4.9162236103</td>\n",
       "      <td>3.1415926536</td>\n",
       "      <td>4.8103706577</td>\n",
       "      <td>4.5475485580</td>\n",
       "      <td>5.3743517962</td>\n",
       "      <td>4.9805062005</td>\n",
       "      <td>4.2334141122</td>\n",
       "      <td>4.6971830845</td>\n",
       "      <td>4.3902529325</td>\n",
       "      <td>...</td>\n",
       "      <td>0.0000000000</td>\n",
       "      <td>0.0000000000</td>\n",
       "      <td>1.0000000000</td>\n",
       "      <td>0.0000000000</td>\n",
       "      <td>0.0000000000</td>\n",
       "      <td>0.0000000000</td>\n",
       "      <td>1.0000000000</td>\n",
       "      <td>0.0000000000</td>\n",
       "      <td>0.0000000000</td>\n",
       "      <td>0.0000000000</td>\n",
       "    </tr>\n",
       "    <tr>\n",
       "      <th>4</th>\n",
       "      <td>2415020.6671549077</td>\n",
       "      <td>4.9169652056</td>\n",
       "      <td>3.1415926536</td>\n",
       "      <td>4.8208202389</td>\n",
       "      <td>4.5484796881</td>\n",
       "      <td>5.3752560010</td>\n",
       "      <td>4.9810664780</td>\n",
       "      <td>4.2335561504</td>\n",
       "      <td>4.6972675976</td>\n",
       "      <td>4.3902930506</td>\n",
       "      <td>...</td>\n",
       "      <td>0.0000000000</td>\n",
       "      <td>0.0000000000</td>\n",
       "      <td>1.0000000000</td>\n",
       "      <td>0.0000000000</td>\n",
       "      <td>0.0000000000</td>\n",
       "      <td>0.0000000000</td>\n",
       "      <td>1.0000000000</td>\n",
       "      <td>0.0000000000</td>\n",
       "      <td>0.0000000000</td>\n",
       "      <td>0.0000000000</td>\n",
       "    </tr>\n",
       "  </tbody>\n",
       "</table>\n",
       "<p>5 rows × 132 columns</p>\n",
       "</div>"
      ],
      "text/plain": [
       "                time          sun        earth         moon      mercury  \\\n",
       "0 2415020.5004882407 4.9139988284 3.1415926536 4.7790792273 4.5447599779   \n",
       "1 2415020.5421549077 4.9147404218 3.1415926536 4.7895000534 4.5456886992   \n",
       "2 2415020.5838215742 4.9154820157 3.1415926536 4.7999305701 4.5466182272   \n",
       "3 2415020.6254882407 4.9162236103 3.1415926536 4.8103706577 4.5475485580   \n",
       "4 2415020.6671549077 4.9169652056 3.1415926536 4.8208202389 4.5484796881   \n",
       "\n",
       "         venus         mars      jupiter       saturn       uranus  ...  \\\n",
       "0 5.3716391230 4.9788254865 4.2329877905 4.6969294963 4.3901325057  ...   \n",
       "1 5.3725433572 4.9793857048 4.2331299323 4.6970140338 4.3901726600  ...   \n",
       "2 5.3734475816 4.9799459428 4.2332720395 4.6970985632 4.3902128023  ...   \n",
       "3 5.3743517962 4.9805062005 4.2334141122 4.6971830845 4.3902529325  ...   \n",
       "4 5.3752560010 4.9810664780 4.2335561504 4.6972675976 4.3902930506  ...   \n",
       "\n",
       "   time_rot_110  time_rot_111  time_rot_112  time_rot_113  time_rot_114  \\\n",
       "0  0.0000000000  0.0000000000  1.0000000000  0.0000000000  0.0000000000   \n",
       "1  0.0000000000  0.0000000000  1.0000000000  0.0000000000  0.0000000000   \n",
       "2  0.0000000000  0.0000000000  1.0000000000  0.0000000000  0.0000000000   \n",
       "3  0.0000000000  0.0000000000  1.0000000000  0.0000000000  0.0000000000   \n",
       "4  0.0000000000  0.0000000000  1.0000000000  0.0000000000  0.0000000000   \n",
       "\n",
       "   time_rot_115  time_rot_116  time_rot_117  time_rot_118  time_rot_119  \n",
       "0  0.0000000000  1.0000000000  0.0000000000  0.0000000000  0.0000000000  \n",
       "1  0.0000000000  1.0000000000  0.0000000000  0.0000000000  0.0000000000  \n",
       "2  0.0000000000  1.0000000000  0.0000000000  0.0000000000  0.0000000000  \n",
       "3  0.0000000000  1.0000000000  0.0000000000  0.0000000000  0.0000000000  \n",
       "4  0.0000000000  1.0000000000  0.0000000000  0.0000000000  0.0000000000  \n",
       "\n",
       "[5 rows x 132 columns]"
      ]
     },
     "execution_count": 768,
     "metadata": {},
     "output_type": "execute_result"
    }
   ],
   "source": [
    "df_planets_with_trotor = df_planets.merge(df_time_rotor, left_index=True, right_index=True)\n",
    "df_planets_with_trotor.head()"
   ]
  },
  {
   "cell_type": "markdown",
   "metadata": {},
   "source": [
    "We quickly check if the values are correctly encoded:"
   ]
  },
  {
   "cell_type": "code",
   "execution_count": 769,
   "metadata": {},
   "outputs": [
    {
     "name": "stdout",
     "output_type": "stream",
     "text": [
      "Julian Time: 2415249.6671549077\n",
      "Rotor: [0. 0. 1. 0. 0. 0. 0. 1. 0. 0. 0. 1. 0. 0. 0. 1. 0. 1. 0. 0. 0. 0. 1. 0.\n",
      " 0. 0. 1. 0. 0. 0. 1. 0. 0. 0. 1. 0. 0. 0. 1. 0. 1. 0. 0. 0. 0. 0. 0. 1.\n",
      " 0. 0. 1. 0. 0. 0. 1. 0. 0. 0. 1. 0. 0. 0. 1. 0. 0. 1. 0. 0. 1. 0. 0. 0.\n",
      " 0. 1. 0. 0. 0. 0. 1. 0. 0. 0. 1. 0. 0. 0. 1. 0. 0. 1. 0. 0. 0. 0. 0. 1.\n",
      " 1. 0. 0. 0. 0. 1. 0. 0. 0. 0. 1. 0. 1. 0. 0. 0. 1. 0. 0. 0. 1. 0. 0. 0.]\n"
     ]
    }
   ],
   "source": [
    "# Testing of time rotor values\n",
    "\n",
    "filter_col = [col for col in df_planets_with_trotor if col.startswith('time_rot_')]\n",
    "\n",
    "print (\"Julian Time:\",df_planets_with_trotor.loc[5500,'time'])\n",
    "rot = np.array(df_planets_with_trotor.loc[5500,filter_col])\n",
    "print (\"Rotor:\", rot)"
   ]
  },
  {
   "cell_type": "code",
   "execution_count": 771,
   "metadata": {},
   "outputs": [
    {
     "name": "stdout",
     "output_type": "stream",
     "text": [
      "-15 15\n"
     ]
    },
    {
     "data": {
      "text/plain": [
       "2415249.6671549077"
      ]
     },
     "execution_count": 771,
     "metadata": {},
     "output_type": "execute_result"
    }
   ],
   "source": [
    "decode_one_hot_rotor_to_value(rot, 4, -15, 15)"
   ]
  },
  {
   "cell_type": "markdown",
   "metadata": {},
   "source": [
    "## Converting Planet Angles to One-Hot Encodings"
   ]
  },
  {
   "cell_type": "code",
   "execution_count": 773,
   "metadata": {},
   "outputs": [
    {
     "name": "stdout",
     "output_type": "stream",
     "text": [
      "0.0003493438621863469\n",
      "359.9999345420169\n"
     ]
    }
   ],
   "source": [
    "print (df_planets_with_trotor.jupiter.min()  * 180.0 / math.pi )\n",
    "print (df_planets_with_trotor.jupiter.max()  * 180.0 / math.pi )"
   ]
  },
  {
   "cell_type": "markdown",
   "metadata": {},
   "source": [
    "First let's determine optimale rotor_count (range)"
   ]
  },
  {
   "cell_type": "code",
   "execution_count": 832,
   "metadata": {},
   "outputs": [
    {
     "name": "stdout",
     "output_type": "stream",
     "text": [
      "Our maximum difference between 2 values is is maximum this value 0.0007415992627457513\n",
      "So let's not add useless precision to the onehot encoding\n"
     ]
    }
   ],
   "source": [
    "print (\"Our maximum difference between 2 values is is maximum this value\", df_planets_with_trotor.sun.diff().max())\n",
    "print (\"So let's not add useless precision to the onehot encoding\")"
   ]
  },
  {
   "cell_type": "code",
   "execution_count": 853,
   "metadata": {},
   "outputs": [
    {
     "name": "stdout",
     "output_type": "stream",
     "text": [
      "-10 3\n",
      "Julian time: 6.283182822518666\n",
      "Flat One Hot Array: [0. 0. 1. 0. 0. 0. 1. 0. 0. 0. 1. 0. 0. 0. 1. 0. 0. 0. 0. 1. 0. 0. 0. 1.\n",
      " 0. 1. 0. 0. 1. 0. 0. 0. 0. 0. 1. 0. 1. 0. 0. 0. 0. 1. 0. 0. 0. 0. 1. 0.\n",
      " 0. 1. 0. 0.]  with length: 52\n",
      "Decoded Rotor: 6.283182621002197\n",
      "Error: -2.0151646840105286e-07\n",
      "-10 3\n",
      "Julian time: 1.331978542433677e-05\n",
      "Flat One Hot Array: [0. 0. 0. 1. 0. 1. 0. 0. 0. 0. 0. 1. 1. 0. 0. 0. 1. 0. 0. 0. 1. 0. 0. 0.\n",
      " 1. 0. 0. 0. 1. 0. 0. 0. 1. 0. 0. 0. 1. 0. 0. 0. 1. 0. 0. 0. 1. 0. 0. 0.\n",
      " 1. 0. 0. 0.]  with length: 52\n",
      "Decoded Rotor: 1.3113021850585938e-05\n",
      "Error: -2.0676357375083306e-07\n"
     ]
    }
   ],
   "source": [
    "val = df_planets_with_trotor.sun.max()\n",
    "test_encode_decode(val, 4, -10, 3) # optimale parameters for 0 error\n",
    "\n",
    "val = df_planets_with_trotor.sun.min()\n",
    "test_encode_decode(val, 4, -10, 3) # optimale parameters for 0 error"
   ]
  },
  {
   "cell_type": "markdown",
   "metadata": {},
   "source": [
    "Above errors are small enough to proceed with this encoding.\n",
    "\n",
    "### Let's proceed with encoding all planets"
   ]
  },
  {
   "cell_type": "code",
   "execution_count": 839,
   "metadata": {},
   "outputs": [],
   "source": [
    "planets = ['moon', 'mercury', 'venus', 'sun', 'mars', 'jupiter', 'saturn', 'uranus', 'neptune', 'pluto']"
   ]
  },
  {
   "cell_type": "code",
   "execution_count": 842,
   "metadata": {},
   "outputs": [
    {
     "name": "stdout",
     "output_type": "stream",
     "text": [
      "Encoding: moon\n",
      "Encoding: mercury\n",
      "Encoding: venus\n",
      "Encoding: sun\n",
      "Encoding: mars\n",
      "Encoding: jupiter\n",
      "Encoding: saturn\n",
      "Encoding: uranus\n",
      "Encoding: neptune\n",
      "Encoding: pluto\n"
     ]
    }
   ],
   "source": [
    "for planet_name in planets:\n",
    "    print (\"Encoding:\", planet_name)\n",
    "    # calculate rotor for planet\n",
    "    df_planet_rotor = \\\n",
    "        value_array_to_rotor_df(df_planets_with_trotor[planet_name], planet_name+\"_rot_\", 4, -10, 3)\n",
    "        \n",
    "    # add planet to `df_planets_with_trotor`\n",
    "    df_planets_with_trotor = df_planets_with_trotor.merge(df_planet_rotor, left_index=True, right_index=True)\n",
    "    "
   ]
  },
  {
   "cell_type": "code",
   "execution_count": 849,
   "metadata": {},
   "outputs": [
    {
     "data": {
      "text/html": [
       "<div>\n",
       "<style scoped>\n",
       "    .dataframe tbody tr th:only-of-type {\n",
       "        vertical-align: middle;\n",
       "    }\n",
       "\n",
       "    .dataframe tbody tr th {\n",
       "        vertical-align: top;\n",
       "    }\n",
       "\n",
       "    .dataframe thead th {\n",
       "        text-align: right;\n",
       "    }\n",
       "</style>\n",
       "<table border=\"1\" class=\"dataframe\">\n",
       "  <thead>\n",
       "    <tr style=\"text-align: right;\">\n",
       "      <th></th>\n",
       "      <th>time</th>\n",
       "      <th>sun</th>\n",
       "      <th>moon</th>\n",
       "      <th>mercury</th>\n",
       "      <th>venus</th>\n",
       "      <th>mars</th>\n",
       "      <th>jupiter</th>\n",
       "      <th>saturn</th>\n",
       "      <th>uranus</th>\n",
       "      <th>neptune</th>\n",
       "      <th>...</th>\n",
       "      <th>pluto_rot_42</th>\n",
       "      <th>pluto_rot_43</th>\n",
       "      <th>pluto_rot_44</th>\n",
       "      <th>pluto_rot_45</th>\n",
       "      <th>pluto_rot_46</th>\n",
       "      <th>pluto_rot_47</th>\n",
       "      <th>pluto_rot_48</th>\n",
       "      <th>pluto_rot_49</th>\n",
       "      <th>pluto_rot_50</th>\n",
       "      <th>pluto_rot_51</th>\n",
       "    </tr>\n",
       "  </thead>\n",
       "  <tbody>\n",
       "    <tr>\n",
       "      <th>0</th>\n",
       "      <td>2415020.5004882407</td>\n",
       "      <td>4.9139988284</td>\n",
       "      <td>4.7790792273</td>\n",
       "      <td>4.5447599779</td>\n",
       "      <td>5.3716391230</td>\n",
       "      <td>4.9788254865</td>\n",
       "      <td>4.2329877905</td>\n",
       "      <td>4.6969294963</td>\n",
       "      <td>4.3901325057</td>\n",
       "      <td>1.5115380264</td>\n",
       "      <td>...</td>\n",
       "      <td>0.0000000000</td>\n",
       "      <td>0.0000000000</td>\n",
       "      <td>0.0000000000</td>\n",
       "      <td>1.0000000000</td>\n",
       "      <td>0.0000000000</td>\n",
       "      <td>0.0000000000</td>\n",
       "      <td>1.0000000000</td>\n",
       "      <td>0.0000000000</td>\n",
       "      <td>0.0000000000</td>\n",
       "      <td>0.0000000000</td>\n",
       "    </tr>\n",
       "    <tr>\n",
       "      <th>1</th>\n",
       "      <td>2415020.5421549077</td>\n",
       "      <td>4.9147404218</td>\n",
       "      <td>4.7895000534</td>\n",
       "      <td>4.5456886992</td>\n",
       "      <td>5.3725433572</td>\n",
       "      <td>4.9793857048</td>\n",
       "      <td>4.2331299323</td>\n",
       "      <td>4.6970140338</td>\n",
       "      <td>4.3901726600</td>\n",
       "      <td>1.5115182044</td>\n",
       "      <td>...</td>\n",
       "      <td>0.0000000000</td>\n",
       "      <td>0.0000000000</td>\n",
       "      <td>0.0000000000</td>\n",
       "      <td>1.0000000000</td>\n",
       "      <td>0.0000000000</td>\n",
       "      <td>0.0000000000</td>\n",
       "      <td>1.0000000000</td>\n",
       "      <td>0.0000000000</td>\n",
       "      <td>0.0000000000</td>\n",
       "      <td>0.0000000000</td>\n",
       "    </tr>\n",
       "    <tr>\n",
       "      <th>2</th>\n",
       "      <td>2415020.5838215742</td>\n",
       "      <td>4.9154820157</td>\n",
       "      <td>4.7999305701</td>\n",
       "      <td>4.5466182272</td>\n",
       "      <td>5.3734475816</td>\n",
       "      <td>4.9799459428</td>\n",
       "      <td>4.2332720395</td>\n",
       "      <td>4.6970985632</td>\n",
       "      <td>4.3902128023</td>\n",
       "      <td>1.5114983874</td>\n",
       "      <td>...</td>\n",
       "      <td>0.0000000000</td>\n",
       "      <td>0.0000000000</td>\n",
       "      <td>0.0000000000</td>\n",
       "      <td>1.0000000000</td>\n",
       "      <td>0.0000000000</td>\n",
       "      <td>0.0000000000</td>\n",
       "      <td>1.0000000000</td>\n",
       "      <td>0.0000000000</td>\n",
       "      <td>0.0000000000</td>\n",
       "      <td>0.0000000000</td>\n",
       "    </tr>\n",
       "    <tr>\n",
       "      <th>3</th>\n",
       "      <td>2415020.6254882407</td>\n",
       "      <td>4.9162236103</td>\n",
       "      <td>4.8103706577</td>\n",
       "      <td>4.5475485580</td>\n",
       "      <td>5.3743517962</td>\n",
       "      <td>4.9805062005</td>\n",
       "      <td>4.2334141122</td>\n",
       "      <td>4.6971830845</td>\n",
       "      <td>4.3902529325</td>\n",
       "      <td>1.5114785754</td>\n",
       "      <td>...</td>\n",
       "      <td>0.0000000000</td>\n",
       "      <td>0.0000000000</td>\n",
       "      <td>0.0000000000</td>\n",
       "      <td>1.0000000000</td>\n",
       "      <td>0.0000000000</td>\n",
       "      <td>0.0000000000</td>\n",
       "      <td>1.0000000000</td>\n",
       "      <td>0.0000000000</td>\n",
       "      <td>0.0000000000</td>\n",
       "      <td>0.0000000000</td>\n",
       "    </tr>\n",
       "    <tr>\n",
       "      <th>4</th>\n",
       "      <td>2415020.6671549077</td>\n",
       "      <td>4.9169652056</td>\n",
       "      <td>4.8208202389</td>\n",
       "      <td>4.5484796881</td>\n",
       "      <td>5.3752560010</td>\n",
       "      <td>4.9810664780</td>\n",
       "      <td>4.2335561504</td>\n",
       "      <td>4.6972675976</td>\n",
       "      <td>4.3902930506</td>\n",
       "      <td>1.5114587685</td>\n",
       "      <td>...</td>\n",
       "      <td>0.0000000000</td>\n",
       "      <td>0.0000000000</td>\n",
       "      <td>0.0000000000</td>\n",
       "      <td>1.0000000000</td>\n",
       "      <td>0.0000000000</td>\n",
       "      <td>0.0000000000</td>\n",
       "      <td>1.0000000000</td>\n",
       "      <td>0.0000000000</td>\n",
       "      <td>0.0000000000</td>\n",
       "      <td>0.0000000000</td>\n",
       "    </tr>\n",
       "  </tbody>\n",
       "</table>\n",
       "<p>5 rows × 651 columns</p>\n",
       "</div>"
      ],
      "text/plain": [
       "                time          sun         moon      mercury        venus  \\\n",
       "0 2415020.5004882407 4.9139988284 4.7790792273 4.5447599779 5.3716391230   \n",
       "1 2415020.5421549077 4.9147404218 4.7895000534 4.5456886992 5.3725433572   \n",
       "2 2415020.5838215742 4.9154820157 4.7999305701 4.5466182272 5.3734475816   \n",
       "3 2415020.6254882407 4.9162236103 4.8103706577 4.5475485580 5.3743517962   \n",
       "4 2415020.6671549077 4.9169652056 4.8208202389 4.5484796881 5.3752560010   \n",
       "\n",
       "          mars      jupiter       saturn       uranus      neptune  ...  \\\n",
       "0 4.9788254865 4.2329877905 4.6969294963 4.3901325057 1.5115380264  ...   \n",
       "1 4.9793857048 4.2331299323 4.6970140338 4.3901726600 1.5115182044  ...   \n",
       "2 4.9799459428 4.2332720395 4.6970985632 4.3902128023 1.5114983874  ...   \n",
       "3 4.9805062005 4.2334141122 4.6971830845 4.3902529325 1.5114785754  ...   \n",
       "4 4.9810664780 4.2335561504 4.6972675976 4.3902930506 1.5114587685  ...   \n",
       "\n",
       "   pluto_rot_42  pluto_rot_43  pluto_rot_44  pluto_rot_45  pluto_rot_46  \\\n",
       "0  0.0000000000  0.0000000000  0.0000000000  1.0000000000  0.0000000000   \n",
       "1  0.0000000000  0.0000000000  0.0000000000  1.0000000000  0.0000000000   \n",
       "2  0.0000000000  0.0000000000  0.0000000000  1.0000000000  0.0000000000   \n",
       "3  0.0000000000  0.0000000000  0.0000000000  1.0000000000  0.0000000000   \n",
       "4  0.0000000000  0.0000000000  0.0000000000  1.0000000000  0.0000000000   \n",
       "\n",
       "   pluto_rot_47  pluto_rot_48  pluto_rot_49  pluto_rot_50  pluto_rot_51  \n",
       "0  0.0000000000  1.0000000000  0.0000000000  0.0000000000  0.0000000000  \n",
       "1  0.0000000000  1.0000000000  0.0000000000  0.0000000000  0.0000000000  \n",
       "2  0.0000000000  1.0000000000  0.0000000000  0.0000000000  0.0000000000  \n",
       "3  0.0000000000  1.0000000000  0.0000000000  0.0000000000  0.0000000000  \n",
       "4  0.0000000000  1.0000000000  0.0000000000  0.0000000000  0.0000000000  \n",
       "\n",
       "[5 rows x 651 columns]"
      ]
     },
     "execution_count": 849,
     "metadata": {},
     "output_type": "execute_result"
    }
   ],
   "source": [
    "df_planets_with_trotor.drop('earth', axis=1, inplace=True)\n",
    "df_planets_with_trotor.head()"
   ]
  },
  {
   "cell_type": "code",
   "execution_count": 852,
   "metadata": {},
   "outputs": [],
   "source": [
    "df_planets_with_trotor.to_csv(\"100_year_rotor_encoded_ephemeris.csv\", sep=';', index=False)"
   ]
  },
  {
   "cell_type": "code",
   "execution_count": 854,
   "metadata": {},
   "outputs": [
    {
     "data": {
      "text/plain": [
       "876000"
      ]
     },
     "execution_count": 854,
     "metadata": {},
     "output_type": "execute_result"
    }
   ],
   "source": [
    "len (df_planets_with_trotor)"
   ]
  },
  {
   "cell_type": "markdown",
   "metadata": {},
   "source": [
    "## Next steps\n",
    "\n",
    "- Divide dataset in 1/2 (50 years), one for training, one for testing\n",
    "- Setup input training data:\n",
    "    - X = Time Rotor input (120)\n",
    "    - Y = 52 (1 observed sphere) -> the moon (use script to get columns starting with \"moon_rot_\"\n",
    "    \n",
    "When more planets will be active, the loss algorithm should be taking an argmax across \"planet rotors\", so that the neural network learns the \"sphere grouping\" across outputs (520 when taking all spheres into account).\n",
    "    \n",
    "We train till the precision will be small enough, say E <= 0.00001, should be adequate enough I think.\n",
    "\n",
    "Then we validate the data on the other 50 years, and we're very anxious for the results."
   ]
  },
  {
   "cell_type": "code",
   "execution_count": null,
   "metadata": {},
   "outputs": [],
   "source": []
  },
  {
   "cell_type": "markdown",
   "metadata": {},
   "source": [
    "## Old School Way"
   ]
  },
  {
   "cell_type": "code",
   "execution_count": 13,
   "metadata": {},
   "outputs": [],
   "source": [
    "def planet1_looks_at_planet2(p1, p2, t):\n",
    "    return p1.at(t).observe(p2).apparent()\n",
    "\n",
    "def observe(p1, p2, t):\n",
    "    \"\"\" Observe planet 1 to planet 2 ... observe(p1, p2, timestamp).degrees, or use .radians for radiance \"\"\"\n",
    "    t = get_ts(t)\n",
    "\n",
    "    astrometric = planet1_looks_at_planet2(p1, p2, t)\n",
    "    _, lon, _ = astrometric.ecliptic_latlon()\n",
    "    return lon\n",
    "\n",
    "def getEarthPos(t, planet):\n",
    "    \"\"\" Given a time t and planet p, return longitude position of planet on ecliptic plane \"\"\"\n",
    "\n",
    "    return observe(_planets['earth'], planet, t).radians"
   ]
  },
  {
   "cell_type": "code",
   "execution_count": 14,
   "metadata": {},
   "outputs": [],
   "source": [
    "t = datetime(1, 12, 9, 0, 14, 0, tzinfo=utc)"
   ]
  },
  {
   "cell_type": "code",
   "execution_count": 15,
   "metadata": {},
   "outputs": [
    {
     "data": {
      "text/plain": [
       "datetime.datetime(1, 12, 9, 0, 14, tzinfo=<UTC>)"
      ]
     },
     "execution_count": 15,
     "metadata": {},
     "output_type": "execute_result"
    }
   ],
   "source": [
    "t"
   ]
  },
  {
   "cell_type": "code",
   "execution_count": 5,
   "metadata": {},
   "outputs": [
    {
     "data": {
      "text/plain": [
       "4.072675942197303"
      ]
     },
     "execution_count": 5,
     "metadata": {},
     "output_type": "execute_result"
    }
   ],
   "source": [
    "t = datetime(1970, 12, 9, 0, 14, 0, tzinfo=utc)\n",
    "earth = _planets['earth']\n",
    "jupiter = _planets['jupiter']\n",
    "observe(earth, jupiter, t).radians"
   ]
  },
  {
   "cell_type": "markdown",
   "metadata": {},
   "source": [
    "### Generate a whole set of dates, spaced every 2H"
   ]
  },
  {
   "cell_type": "code",
   "execution_count": 6,
   "metadata": {},
   "outputs": [
    {
     "data": {
      "text/plain": [
       "220369"
      ]
     },
     "execution_count": 6,
     "metadata": {},
     "output_type": "execute_result"
    }
   ],
   "source": [
    "start = datetime(1970, 1, 1, 0, 0, 0, tzinfo=utc)\n",
    "end = datetime(2020, 4, 12, 0, 0, 0, tzinfo=utc)\n",
    "dates = pd.date_range(start = start, end = end, tz=pytz.UTC, freq='2H').to_pydatetime().tolist()\n",
    "\n",
    "# reason for 2H frequency: we want to divide the day up in 12 segments, which is a nice amount\n",
    "len(dates)"
   ]
  },
  {
   "cell_type": "code",
   "execution_count": 75,
   "metadata": {},
   "outputs": [],
   "source": [
    "import math"
   ]
  },
  {
   "cell_type": "code",
   "execution_count": 102,
   "metadata": {
    "tags": [
     "outputPrepend"
    ]
   },
   "outputs": [
    {
     "data": {
      "text/html": [
       "<div>\n",
       "<style scoped>\n",
       "    .dataframe tbody tr th:only-of-type {\n",
       "        vertical-align: middle;\n",
       "    }\n",
       "\n",
       "    .dataframe tbody tr th {\n",
       "        vertical-align: top;\n",
       "    }\n",
       "\n",
       "    .dataframe thead th {\n",
       "        text-align: right;\n",
       "    }\n",
       "</style>\n",
       "<table border=\"1\" class=\"dataframe\">\n",
       "  <thead>\n",
       "    <tr style=\"text-align: right;\">\n",
       "      <th></th>\n",
       "      <th>t</th>\n",
       "      <th>sun</th>\n",
       "      <th>earth</th>\n",
       "      <th>moon</th>\n",
       "      <th>venus</th>\n",
       "      <th>mars</th>\n",
       "      <th>jupiter</th>\n",
       "    </tr>\n",
       "  </thead>\n",
       "  <tbody>\n",
       "    <tr>\n",
       "      <th>149690</th>\n",
       "      <td>2004-02-26 04:00:00+00:00</td>\n",
       "      <td>5.878904</td>\n",
       "      <td>2.737311</td>\n",
       "      <td>0.791900</td>\n",
       "      <td>0.353795</td>\n",
       "      <td>0.776064</td>\n",
       "      <td>2.876731</td>\n",
       "    </tr>\n",
       "    <tr>\n",
       "      <th>125890</th>\n",
       "      <td>1998-09-21 20:00:00+00:00</td>\n",
       "      <td>3.118022</td>\n",
       "      <td>-0.023571</td>\n",
       "      <td>3.334024</td>\n",
       "      <td>2.943443</td>\n",
       "      <td>2.449233</td>\n",
       "      <td>6.149105</td>\n",
       "    </tr>\n",
       "    <tr>\n",
       "      <th>73922</th>\n",
       "      <td>1986-11-13 04:00:00+00:00</td>\n",
       "      <td>4.025802</td>\n",
       "      <td>0.884210</td>\n",
       "      <td>0.223293</td>\n",
       "      <td>3.812943</td>\n",
       "      <td>5.612511</td>\n",
       "      <td>5.989845</td>\n",
       "    </tr>\n",
       "    <tr>\n",
       "      <th>67042</th>\n",
       "      <td>1985-04-18 20:00:00+00:00</td>\n",
       "      <td>0.504923</td>\n",
       "      <td>-2.636670</td>\n",
       "      <td>0.242316</td>\n",
       "      <td>0.121726</td>\n",
       "      <td>0.958782</td>\n",
       "      <td>5.477937</td>\n",
       "    </tr>\n",
       "    <tr>\n",
       "      <th>4485</th>\n",
       "      <td>1971-01-09 18:00:00+00:00</td>\n",
       "      <td>5.048080</td>\n",
       "      <td>1.906488</td>\n",
       "      <td>1.539050</td>\n",
       "      <td>4.238912</td>\n",
       "      <td>4.049131</td>\n",
       "      <td>4.181739</td>\n",
       "    </tr>\n",
       "    <tr>\n",
       "      <th>160677</th>\n",
       "      <td>2006-08-29 18:00:00+00:00</td>\n",
       "      <td>2.725605</td>\n",
       "      <td>-0.415987</td>\n",
       "      <td>3.856335</td>\n",
       "      <td>2.454635</td>\n",
       "      <td>3.034209</td>\n",
       "      <td>3.891856</td>\n",
       "    </tr>\n",
       "    <tr>\n",
       "      <th>92640</th>\n",
       "      <td>1991-02-20 00:00:00+00:00</td>\n",
       "      <td>5.776359</td>\n",
       "      <td>2.634766</td>\n",
       "      <td>0.621809</td>\n",
       "      <td>6.234074</td>\n",
       "      <td>1.220381</td>\n",
       "      <td>2.198069</td>\n",
       "    </tr>\n",
       "    <tr>\n",
       "      <th>182368</th>\n",
       "      <td>2011-08-11 08:00:00+00:00</td>\n",
       "      <td>2.411440</td>\n",
       "      <td>-0.730153</td>\n",
       "      <td>5.047272</td>\n",
       "      <td>2.386536</td>\n",
       "      <td>1.660161</td>\n",
       "      <td>0.691000</td>\n",
       "    </tr>\n",
       "    <tr>\n",
       "      <th>52811</th>\n",
       "      <td>1982-01-18 22:00:00+00:00</td>\n",
       "      <td>5.214145</td>\n",
       "      <td>2.072552</td>\n",
       "      <td>4.012284</td>\n",
       "      <td>5.285399</td>\n",
       "      <td>3.382649</td>\n",
       "      <td>3.815142</td>\n",
       "    </tr>\n",
       "    <tr>\n",
       "      <th>91068</th>\n",
       "      <td>1990-10-12 00:00:00+00:00</td>\n",
       "      <td>3.465056</td>\n",
       "      <td>0.323463</td>\n",
       "      <td>2.083998</td>\n",
       "      <td>3.372365</td>\n",
       "      <td>1.293873</td>\n",
       "      <td>2.270147</td>\n",
       "    </tr>\n",
       "    <tr>\n",
       "      <th>54881</th>\n",
       "      <td>1982-07-10 10:00:00+00:00</td>\n",
       "      <td>1.886211</td>\n",
       "      <td>-1.255382</td>\n",
       "      <td>5.821416</td>\n",
       "      <td>1.360564</td>\n",
       "      <td>3.447698</td>\n",
       "      <td>3.681313</td>\n",
       "    </tr>\n",
       "    <tr>\n",
       "      <th>4045</th>\n",
       "      <td>1970-12-04 02:00:00+00:00</td>\n",
       "      <td>4.396647</td>\n",
       "      <td>1.255054</td>\n",
       "      <td>5.562625</td>\n",
       "      <td>3.846233</td>\n",
       "      <td>3.643345</td>\n",
       "      <td>4.054375</td>\n",
       "    </tr>\n",
       "    <tr>\n",
       "      <th>207864</th>\n",
       "      <td>2017-06-05 00:00:00+00:00</td>\n",
       "      <td>1.296716</td>\n",
       "      <td>-1.844876</td>\n",
       "      <td>3.566335</td>\n",
       "      <td>0.497138</td>\n",
       "      <td>1.570336</td>\n",
       "      <td>3.368608</td>\n",
       "    </tr>\n",
       "    <tr>\n",
       "      <th>29712</th>\n",
       "      <td>1976-10-12 00:00:00+00:00</td>\n",
       "      <td>3.475150</td>\n",
       "      <td>0.333557</td>\n",
       "      <td>1.050762</td>\n",
       "      <td>4.008650</td>\n",
       "      <td>3.708085</td>\n",
       "      <td>1.059559</td>\n",
       "    </tr>\n",
       "    <tr>\n",
       "      <th>48637</th>\n",
       "      <td>1981-02-05 02:00:00+00:00</td>\n",
       "      <td>5.523161</td>\n",
       "      <td>2.381568</td>\n",
       "      <td>5.558185</td>\n",
       "      <td>5.258744</td>\n",
       "      <td>5.738473</td>\n",
       "      <td>3.324048</td>\n",
       "    </tr>\n",
       "  </tbody>\n",
       "</table>\n",
       "</div>"
      ],
      "text/plain": [
       "                               t       sun     earth      moon     venus  \\\n",
       "149690 2004-02-26 04:00:00+00:00  5.878904  2.737311  0.791900  0.353795   \n",
       "125890 1998-09-21 20:00:00+00:00  3.118022 -0.023571  3.334024  2.943443   \n",
       "73922  1986-11-13 04:00:00+00:00  4.025802  0.884210  0.223293  3.812943   \n",
       "67042  1985-04-18 20:00:00+00:00  0.504923 -2.636670  0.242316  0.121726   \n",
       "4485   1971-01-09 18:00:00+00:00  5.048080  1.906488  1.539050  4.238912   \n",
       "160677 2006-08-29 18:00:00+00:00  2.725605 -0.415987  3.856335  2.454635   \n",
       "92640  1991-02-20 00:00:00+00:00  5.776359  2.634766  0.621809  6.234074   \n",
       "182368 2011-08-11 08:00:00+00:00  2.411440 -0.730153  5.047272  2.386536   \n",
       "52811  1982-01-18 22:00:00+00:00  5.214145  2.072552  4.012284  5.285399   \n",
       "91068  1990-10-12 00:00:00+00:00  3.465056  0.323463  2.083998  3.372365   \n",
       "54881  1982-07-10 10:00:00+00:00  1.886211 -1.255382  5.821416  1.360564   \n",
       "4045   1970-12-04 02:00:00+00:00  4.396647  1.255054  5.562625  3.846233   \n",
       "207864 2017-06-05 00:00:00+00:00  1.296716 -1.844876  3.566335  0.497138   \n",
       "29712  1976-10-12 00:00:00+00:00  3.475150  0.333557  1.050762  4.008650   \n",
       "48637  1981-02-05 02:00:00+00:00  5.523161  2.381568  5.558185  5.258744   \n",
       "\n",
       "            mars   jupiter  \n",
       "149690  0.776064  2.876731  \n",
       "125890  2.449233  6.149105  \n",
       "73922   5.612511  5.989845  \n",
       "67042   0.958782  5.477937  \n",
       "4485    4.049131  4.181739  \n",
       "160677  3.034209  3.891856  \n",
       "92640   1.220381  2.198069  \n",
       "182368  1.660161  0.691000  \n",
       "52811   3.382649  3.815142  \n",
       "91068   1.293873  2.270147  \n",
       "54881   3.447698  3.681313  \n",
       "4045    3.643345  4.054375  \n",
       "207864  1.570336  3.368608  \n",
       "29712   3.708085  1.059559  \n",
       "48637   5.738473  3.324048  "
      ]
     },
     "execution_count": 102,
     "metadata": {},
     "output_type": "execute_result"
    }
   ],
   "source": [
    "bodies = ['sun', 'earth', 'moon', 'venus', 'mars', 'jupiter']\n",
    "\n",
    "positions = {\n",
    "    'sun': (lambda t: observe(earth,      _planets['sun'], t).radians),\n",
    "    'earth': (lambda t: observe(earth,    _planets['sun'], t).radians - math.pi),\n",
    "    'moon': (lambda t: observe(earth,     _planets['moon'], t).radians),\n",
    "    'venus': (lambda t: observe(earth,  _planets['venus'], t).radians),\n",
    "    'mars': (lambda t: observe(earth,  _planets['mars'], t).radians),\n",
    "    'jupiter': (lambda t: observe(earth,    _planets['jupiter'], t).radians)\n",
    "}\n",
    "\n",
    "def generate_table(dates):\n",
    "\n",
    "    new_table = {}\n",
    "    new_table['t'] = dates\n",
    "\n",
    "    for b in bodies:\n",
    "        new_table[b] = [] # assign body nae as key\n",
    "        for t in dates: # calculate for every date in dates\n",
    "            body_pos = positions[b](t) # calculate position, using this planet of body\n",
    "            new_table[b].append( body_pos ) # generate a new table\n",
    "\n",
    "    df = pd.DataFrame(data=new_table)\n",
    "\n",
    "    return df\n",
    "\n",
    "df = generate_table(dates)\n",
    "df.sample(15)"
   ]
  },
  {
   "cell_type": "code",
   "execution_count": 104,
   "metadata": {},
   "outputs": [],
   "source": [
    "df.to_csv('planets.csv', sep=';')"
   ]
  },
  {
   "cell_type": "code",
   "execution_count": null,
   "metadata": {},
   "outputs": [],
   "source": []
  }
 ],
 "metadata": {
  "file_extension": ".py",
  "kernelspec": {
   "display_name": "Python 3",
   "language": "python",
   "name": "python3"
  },
  "language_info": {
   "codemirror_mode": {
    "name": "ipython",
    "version": 3
   },
   "file_extension": ".py",
   "mimetype": "text/x-python",
   "name": "python",
   "nbconvert_exporter": "python",
   "pygments_lexer": "ipython3",
   "version": "3.7.2-final"
  },
  "mimetype": "text/x-python",
  "name": "python",
  "npconvert_exporter": "python",
  "pygments_lexer": "ipython3",
  "toc": {
   "base_numbering": 1,
   "nav_menu": {},
   "number_sections": true,
   "sideBar": true,
   "skip_h1_title": false,
   "title_cell": "Contents",
   "title_sidebar": "Contents",
   "toc_cell": true,
   "toc_position": {},
   "toc_section_display": true,
   "toc_window_display": false
  },
  "version": 3
 },
 "nbformat": 4,
 "nbformat_minor": 2
}