{
 "nbformat": 4,
 "nbformat_minor": 2,
 "metadata": {
  "language_info": {
   "name": "python",
   "codemirror_mode": {
    "name": "ipython",
    "version": 3
   },
   "version": "3.7.2-final"
  },
  "orig_nbformat": 2,
  "file_extension": ".py",
  "mimetype": "text/x-python",
  "name": "python",
  "npconvert_exporter": "python",
  "pygments_lexer": "ipython3",
  "version": 3,
  "kernelspec": {
   "name": "python3",
   "display_name": "Python 3"
  }
 },
 "cells": [
  {
   "cell_type": "code",
   "execution_count": 53,
   "metadata": {},
   "outputs": [],
   "source": [
    "from skyfield.api import load\n",
    "import numpy as np\n",
    "import math\n",
    "import matplotlib.pyplot as plt\n",
    "import pandas as pd\n",
    "import seaborn as sns\n",
    "from skyfield.api import utc\n",
    "from scipy.optimize import brentq # machine learning\n",
    "\n",
    "from datetime import timedelta, datetime\n",
    "import pytz"
   ]
  },
  {
   "cell_type": "code",
   "execution_count": 18,
   "metadata": {},
   "outputs": [],
   "source": [
    "# load Ephemeris\n",
    "# load library planet position file\n",
    "planets = load('de421.bsp')\n",
    "\n",
    "_planets = {\n",
    "    \"sun\": planets['SUN'],\n",
    "    \"earth\": planets['EARTH'],\n",
    "    \"moon\": planets['MOON'],\n",
    "    \"mercury\": planets['MERCURY'],\n",
    "    \"venus\": planets['VENUS BARYCENTER'],\n",
    "    \"mars\": planets['MARS BARYCENTER'],\n",
    "    \"jupiter\": planets['JUPITER BARYCENTER'],\n",
    "    \"saturn\": planets['SATURN BARYCENTER'],\n",
    "    \"uranus\": planets['URANUS BARYCENTER'],\n",
    "    \"neptune\": planets['NEPTUNE BARYCENTER'],\n",
    "    \"pluto\": planets['PLUTO BARYCENTER'],\n",
    "}"
   ]
  },
  {
   "cell_type": "code",
   "execution_count": 19,
   "metadata": {},
   "outputs": [],
   "source": [
    "ts = load.timescale(builtin=True)\n",
    "\n",
    "def get_ts(birthday_datetime):\n",
    "    return ts.utc(birthday_datetime)"
   ]
  },
  {
   "cell_type": "code",
   "execution_count": 14,
   "metadata": {},
   "outputs": [],
   "source": []
  },
  {
   "cell_type": "code",
   "execution_count": null,
   "metadata": {},
   "outputs": [],
   "source": []
  },
  {
   "cell_type": "code",
   "execution_count": null,
   "metadata": {},
   "outputs": [],
   "source": []
  },
  {
   "cell_type": "code",
   "execution_count": 70,
   "metadata": {},
   "outputs": [],
   "source": [
    "def planet1_looks_at_planet2(p1, p2, t):\n",
    "    return p1.at(t).observe(p2).apparent()\n",
    "\n",
    "def observe(p1, p2, t):\n",
    "    \"\"\" Observe planet 1 to planet 2 ... observe(p1, p2, timestamp).degrees, or use .radians for radiance \"\"\"\n",
    "    t = get_ts(t)\n",
    "\n",
    "    astrometric = planet1_looks_at_planet2(p1, p2, t)\n",
    "    _, lon, _ = astrometric.ecliptic_latlon()\n",
    "    return lon\n",
    "\n",
    "def getEarthPos(t, planet):\n",
    "    \"\"\" Given a time t and planet p, return longitude position of planet on ecliptic plane \"\"\"\n",
    "\n",
    "    return observe(_planets['earth'], planet, t).radians"
   ]
  },
  {
   "cell_type": "code",
   "execution_count": null,
   "metadata": {},
   "outputs": [],
   "source": []
  },
  {
   "cell_type": "code",
   "execution_count": 71,
   "metadata": {},
   "outputs": [
    {
     "output_type": "execute_result",
     "data": {
      "text/plain": "4.072675942197303"
     },
     "metadata": {},
     "execution_count": 71
    }
   ],
   "source": [
    "t = datetime(1970, 12, 9, 0, 14, 0, tzinfo=utc)\n",
    "earth = _planets['earth']\n",
    "jupiter = _planets['jupiter']\n",
    "observe(earth, jupiter, t).radians"
   ]
  },
  {
   "cell_type": "markdown",
   "metadata": {},
   "source": [
    "## Generate a whole set of dates, spaced every 2H"
   ]
  },
  {
   "cell_type": "code",
   "execution_count": 73,
   "metadata": {},
   "outputs": [
    {
     "output_type": "execute_result",
     "data": {
      "text/plain": "220369"
     },
     "metadata": {},
     "execution_count": 73
    }
   ],
   "source": [
    "start = datetime(1970, 1, 1, 0, 0, 0, tzinfo=utc)\n",
    "end = datetime(2020, 4, 12, 0, 0, 0, tzinfo=utc)\n",
    "dates = pd.date_range(start = start, end = end, tz=pytz.UTC, freq='2H').to_pydatetime().tolist()\n",
    "\n",
    "# reason for 2H frequency: we want to divide the day up in 12 segments, which is a nice amount\n",
    "len(dates)"
   ]
  },
  {
   "cell_type": "code",
   "execution_count": 75,
   "metadata": {},
   "outputs": [],
   "source": [
    "import math"
   ]
  },
  {
   "cell_type": "code",
   "execution_count": 102,
   "metadata": {
    "tags": [
     "outputPrepend",
     "outputPrepend",
     "outputPrepend",
     "outputPrepend"
    ]
   },
   "outputs": [
    {
     "output_type": "execute_result",
     "data": {
      "text/plain": "                               t       sun     earth      moon     venus  \\\n149690 2004-02-26 04:00:00+00:00  5.878904  2.737311  0.791900  0.353795   \n125890 1998-09-21 20:00:00+00:00  3.118022 -0.023571  3.334024  2.943443   \n73922  1986-11-13 04:00:00+00:00  4.025802  0.884210  0.223293  3.812943   \n67042  1985-04-18 20:00:00+00:00  0.504923 -2.636670  0.242316  0.121726   \n4485   1971-01-09 18:00:00+00:00  5.048080  1.906488  1.539050  4.238912   \n160677 2006-08-29 18:00:00+00:00  2.725605 -0.415987  3.856335  2.454635   \n92640  1991-02-20 00:00:00+00:00  5.776359  2.634766  0.621809  6.234074   \n182368 2011-08-11 08:00:00+00:00  2.411440 -0.730153  5.047272  2.386536   \n52811  1982-01-18 22:00:00+00:00  5.214145  2.072552  4.012284  5.285399   \n91068  1990-10-12 00:00:00+00:00  3.465056  0.323463  2.083998  3.372365   \n54881  1982-07-10 10:00:00+00:00  1.886211 -1.255382  5.821416  1.360564   \n4045   1970-12-04 02:00:00+00:00  4.396647  1.255054  5.562625  3.846233   \n207864 2017-06-05 00:00:00+00:00  1.296716 -1.844876  3.566335  0.497138   \n29712  1976-10-12 00:00:00+00:00  3.475150  0.333557  1.050762  4.008650   \n48637  1981-02-05 02:00:00+00:00  5.523161  2.381568  5.558185  5.258744   \n\n            mars   jupiter  \n149690  0.776064  2.876731  \n125890  2.449233  6.149105  \n73922   5.612511  5.989845  \n67042   0.958782  5.477937  \n4485    4.049131  4.181739  \n160677  3.034209  3.891856  \n92640   1.220381  2.198069  \n182368  1.660161  0.691000  \n52811   3.382649  3.815142  \n91068   1.293873  2.270147  \n54881   3.447698  3.681313  \n4045    3.643345  4.054375  \n207864  1.570336  3.368608  \n29712   3.708085  1.059559  \n48637   5.738473  3.324048  ",
      "text/html": "<div>\n<style scoped>\n    .dataframe tbody tr th:only-of-type {\n        vertical-align: middle;\n    }\n\n    .dataframe tbody tr th {\n        vertical-align: top;\n    }\n\n    .dataframe thead th {\n        text-align: right;\n    }\n</style>\n<table border=\"1\" class=\"dataframe\">\n  <thead>\n    <tr style=\"text-align: right;\">\n      <th></th>\n      <th>t</th>\n      <th>sun</th>\n      <th>earth</th>\n      <th>moon</th>\n      <th>venus</th>\n      <th>mars</th>\n      <th>jupiter</th>\n    </tr>\n  </thead>\n  <tbody>\n    <tr>\n      <th>149690</th>\n      <td>2004-02-26 04:00:00+00:00</td>\n      <td>5.878904</td>\n      <td>2.737311</td>\n      <td>0.791900</td>\n      <td>0.353795</td>\n      <td>0.776064</td>\n      <td>2.876731</td>\n    </tr>\n    <tr>\n      <th>125890</th>\n      <td>1998-09-21 20:00:00+00:00</td>\n      <td>3.118022</td>\n      <td>-0.023571</td>\n      <td>3.334024</td>\n      <td>2.943443</td>\n      <td>2.449233</td>\n      <td>6.149105</td>\n    </tr>\n    <tr>\n      <th>73922</th>\n      <td>1986-11-13 04:00:00+00:00</td>\n      <td>4.025802</td>\n      <td>0.884210</td>\n      <td>0.223293</td>\n      <td>3.812943</td>\n      <td>5.612511</td>\n      <td>5.989845</td>\n    </tr>\n    <tr>\n      <th>67042</th>\n      <td>1985-04-18 20:00:00+00:00</td>\n      <td>0.504923</td>\n      <td>-2.636670</td>\n      <td>0.242316</td>\n      <td>0.121726</td>\n      <td>0.958782</td>\n      <td>5.477937</td>\n    </tr>\n    <tr>\n      <th>4485</th>\n      <td>1971-01-09 18:00:00+00:00</td>\n      <td>5.048080</td>\n      <td>1.906488</td>\n      <td>1.539050</td>\n      <td>4.238912</td>\n      <td>4.049131</td>\n      <td>4.181739</td>\n    </tr>\n    <tr>\n      <th>160677</th>\n      <td>2006-08-29 18:00:00+00:00</td>\n      <td>2.725605</td>\n      <td>-0.415987</td>\n      <td>3.856335</td>\n      <td>2.454635</td>\n      <td>3.034209</td>\n      <td>3.891856</td>\n    </tr>\n    <tr>\n      <th>92640</th>\n      <td>1991-02-20 00:00:00+00:00</td>\n      <td>5.776359</td>\n      <td>2.634766</td>\n      <td>0.621809</td>\n      <td>6.234074</td>\n      <td>1.220381</td>\n      <td>2.198069</td>\n    </tr>\n    <tr>\n      <th>182368</th>\n      <td>2011-08-11 08:00:00+00:00</td>\n      <td>2.411440</td>\n      <td>-0.730153</td>\n      <td>5.047272</td>\n      <td>2.386536</td>\n      <td>1.660161</td>\n      <td>0.691000</td>\n    </tr>\n    <tr>\n      <th>52811</th>\n      <td>1982-01-18 22:00:00+00:00</td>\n      <td>5.214145</td>\n      <td>2.072552</td>\n      <td>4.012284</td>\n      <td>5.285399</td>\n      <td>3.382649</td>\n      <td>3.815142</td>\n    </tr>\n    <tr>\n      <th>91068</th>\n      <td>1990-10-12 00:00:00+00:00</td>\n      <td>3.465056</td>\n      <td>0.323463</td>\n      <td>2.083998</td>\n      <td>3.372365</td>\n      <td>1.293873</td>\n      <td>2.270147</td>\n    </tr>\n    <tr>\n      <th>54881</th>\n      <td>1982-07-10 10:00:00+00:00</td>\n      <td>1.886211</td>\n      <td>-1.255382</td>\n      <td>5.821416</td>\n      <td>1.360564</td>\n      <td>3.447698</td>\n      <td>3.681313</td>\n    </tr>\n    <tr>\n      <th>4045</th>\n      <td>1970-12-04 02:00:00+00:00</td>\n      <td>4.396647</td>\n      <td>1.255054</td>\n      <td>5.562625</td>\n      <td>3.846233</td>\n      <td>3.643345</td>\n      <td>4.054375</td>\n    </tr>\n    <tr>\n      <th>207864</th>\n      <td>2017-06-05 00:00:00+00:00</td>\n      <td>1.296716</td>\n      <td>-1.844876</td>\n      <td>3.566335</td>\n      <td>0.497138</td>\n      <td>1.570336</td>\n      <td>3.368608</td>\n    </tr>\n    <tr>\n      <th>29712</th>\n      <td>1976-10-12 00:00:00+00:00</td>\n      <td>3.475150</td>\n      <td>0.333557</td>\n      <td>1.050762</td>\n      <td>4.008650</td>\n      <td>3.708085</td>\n      <td>1.059559</td>\n    </tr>\n    <tr>\n      <th>48637</th>\n      <td>1981-02-05 02:00:00+00:00</td>\n      <td>5.523161</td>\n      <td>2.381568</td>\n      <td>5.558185</td>\n      <td>5.258744</td>\n      <td>5.738473</td>\n      <td>3.324048</td>\n    </tr>\n  </tbody>\n</table>\n</div>"
     },
     "metadata": {},
     "execution_count": 102
    }
   ],
   "source": [
    "bodies = ['sun', 'earth', 'moon', 'venus', 'mars', 'jupiter']\n",
    "\n",
    "positions = {\n",
    "    'sun': (lambda t: observe(earth,      _planets['sun'], t).radians),\n",
    "    'earth': (lambda t: observe(earth,    _planets['sun'], t).radians - math.pi),\n",
    "    'moon': (lambda t: observe(earth,     _planets['moon'], t).radians),\n",
    "    'venus': (lambda t: observe(earth,  _planets['venus'], t).radians),\n",
    "    'mars': (lambda t: observe(earth,  _planets['mars'], t).radians),\n",
    "    'jupiter': (lambda t: observe(earth,    _planets['jupiter'], t).radians)\n",
    "}\n",
    "\n",
    "def generate_table(dates):\n",
    "\n",
    "    new_table = {}\n",
    "    new_table['t'] = dates\n",
    "\n",
    "    for b in bodies:\n",
    "        new_table[b] = [] # assign body nae as key\n",
    "        for t in dates: # calculate for every date in dates\n",
    "            body_pos = positions[b](t) # calculate position, using this planet of body\n",
    "            new_table[b].append( body_pos ) # generate a new table\n",
    "\n",
    "    df = pd.DataFrame(data=new_table)\n",
    "\n",
    "    return df\n",
    "\n",
    "df = generate_table(dates)\n",
    "df.sample(15)"
   ]
  },
  {
   "cell_type": "code",
   "execution_count": 104,
   "metadata": {},
   "outputs": [],
   "source": [
    "df.to_csv('planets.csv', sep=';')"
   ]
  },
  {
   "cell_type": "code",
   "execution_count": null,
   "metadata": {},
   "outputs": [],
   "source": []
  }
 ]
}